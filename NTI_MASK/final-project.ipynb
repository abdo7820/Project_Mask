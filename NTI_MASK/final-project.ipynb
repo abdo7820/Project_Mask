{
 "cells": [
  {
   "cell_type": "code",
   "execution_count": 1,
   "id": "24483f1a",
   "metadata": {
    "_cell_guid": "b1076dfc-b9ad-4769-8c92-a6c4dae69d19",
    "_uuid": "8f2839f25d086af736a60e9eeb907d3b93b6e0e5",
    "execution": {
     "iopub.execute_input": "2025-07-17T11:11:00.528424Z",
     "iopub.status.busy": "2025-07-17T11:11:00.528084Z",
     "iopub.status.idle": "2025-07-17T11:11:17.829745Z",
     "shell.execute_reply": "2025-07-17T11:11:17.829098Z"
    },
    "papermill": {
     "duration": 17.309068,
     "end_time": "2025-07-17T11:11:17.831185",
     "exception": false,
     "start_time": "2025-07-17T11:11:00.522117",
     "status": "completed"
    },
    "tags": []
   },
   "outputs": [
    {
     "name": "stderr",
     "output_type": "stream",
     "text": [
      "2025-07-17 11:11:02.507541: E external/local_xla/xla/stream_executor/cuda/cuda_fft.cc:477] Unable to register cuFFT factory: Attempting to register factory for plugin cuFFT when one has already been registered\n",
      "WARNING: All log messages before absl::InitializeLog() is called are written to STDERR\n",
      "E0000 00:00:1752750662.743369      19 cuda_dnn.cc:8310] Unable to register cuDNN factory: Attempting to register factory for plugin cuDNN when one has already been registered\n",
      "E0000 00:00:1752750662.810365      19 cuda_blas.cc:1418] Unable to register cuBLAS factory: Attempting to register factory for plugin cuBLAS when one has already been registered\n"
     ]
    }
   ],
   "source": [
    "import os\n",
    "import matplotlib.pyplot as plt \n",
    "from PIL import Image\n",
    "import numpy as np\n",
    "import tensorflow as tf\n",
    "from tensorflow.keras.models import Sequential\n",
    "from tensorflow.keras.layers import Conv2D, MaxPooling2D, Dropout, Flatten, Dense, BatchNormalization\n",
    "from tensorflow.keras.preprocessing.image import ImageDataGenerator\n",
    "from tensorflow.keras.callbacks import EarlyStopping, ReduceLROnPlateau, ModelCheckpoint\n",
    "from sklearn.metrics import classification_report, confusion_matrix, ConfusionMatrixDisplay\n",
    "\n"
   ]
  },
  {
   "cell_type": "code",
   "execution_count": 2,
   "id": "3509d0b6",
   "metadata": {
    "execution": {
     "iopub.execute_input": "2025-07-17T11:11:17.838759Z",
     "iopub.status.busy": "2025-07-17T11:11:17.838333Z",
     "iopub.status.idle": "2025-07-17T11:11:17.841764Z",
     "shell.execute_reply": "2025-07-17T11:11:17.841278Z"
    },
    "papermill": {
     "duration": 0.008172,
     "end_time": "2025-07-17T11:11:17.842756",
     "exception": false,
     "start_time": "2025-07-17T11:11:17.834584",
     "status": "completed"
    },
    "tags": []
   },
   "outputs": [],
   "source": [
    "import warnings\n",
    "warnings.filterwarnings(\"ignore\")"
   ]
  },
  {
   "cell_type": "code",
   "execution_count": 3,
   "id": "80fc9979",
   "metadata": {
    "execution": {
     "iopub.execute_input": "2025-07-17T11:11:17.849004Z",
     "iopub.status.busy": "2025-07-17T11:11:17.848804Z",
     "iopub.status.idle": "2025-07-17T11:11:17.851844Z",
     "shell.execute_reply": "2025-07-17T11:11:17.851364Z"
    },
    "papermill": {
     "duration": 0.007268,
     "end_time": "2025-07-17T11:11:17.852829",
     "exception": false,
     "start_time": "2025-07-17T11:11:17.845561",
     "status": "completed"
    },
    "tags": []
   },
   "outputs": [],
   "source": [
    "base_dir = \"/kaggle/input/face-mask-12k-images-dataset/Face Mask Dataset/\"\n",
    "subfolders = [\n",
    "    \"Train/WithMask\", \"Train/WithoutMask\",\n",
    "    \"Validation/WithMask\", \"Validation/WithoutMask\",\n",
    "    \"Test/WithMask\", \"Test/WithoutMask\"\n",
    "]"
   ]
  },
  {
   "cell_type": "code",
   "execution_count": 4,
   "id": "34a67a47",
   "metadata": {
    "execution": {
     "iopub.execute_input": "2025-07-17T11:11:17.859123Z",
     "iopub.status.busy": "2025-07-17T11:11:17.858930Z",
     "iopub.status.idle": "2025-07-17T11:13:19.388433Z",
     "shell.execute_reply": "2025-07-17T11:13:19.387597Z"
    },
    "papermill": {
     "duration": 121.534289,
     "end_time": "2025-07-17T11:13:19.389921",
     "exception": false,
     "start_time": "2025-07-17T11:11:17.855632",
     "status": "completed"
    },
    "tags": []
   },
   "outputs": [],
   "source": [
    "all_sizes = []\n",
    "\n",
    "for subfolder in subfolders:\n",
    "    folder_path = os.path.join(base_dir, subfolder)\n",
    "    for filename in os.listdir(folder_path):\n",
    "        if filename.endswith('.jpg') or filename.endswith('.png'):\n",
    "            try:\n",
    "                img = Image.open(os.path.join(folder_path, filename))\n",
    "                all_sizes.append(img.size)\n",
    "            except:\n",
    "                pass  \n",
    "\n",
    "\n",
    "widths = [w for w, h in all_sizes]\n",
    "heights = [h for w, h in all_sizes]\n",
    "\n",
    "\n",
    "avg_width = int(np.mean(widths))\n",
    "avg_height = int(np.mean(heights))\n"
   ]
  },
  {
   "cell_type": "code",
   "execution_count": 5,
   "id": "15e128de",
   "metadata": {
    "execution": {
     "iopub.execute_input": "2025-07-17T11:13:19.397084Z",
     "iopub.status.busy": "2025-07-17T11:13:19.396851Z",
     "iopub.status.idle": "2025-07-17T11:13:19.402217Z",
     "shell.execute_reply": "2025-07-17T11:13:19.401405Z"
    },
    "papermill": {
     "duration": 0.010045,
     "end_time": "2025-07-17T11:13:19.403405",
     "exception": false,
     "start_time": "2025-07-17T11:13:19.393360",
     "status": "completed"
    },
    "tags": []
   },
   "outputs": [
    {
     "name": "stdout",
     "output_type": "stream",
     "text": [
      " Recommended Image Size: (128, 128)\n",
      " Recommended Batch Size: 32\n"
     ]
    }
   ],
   "source": [
    "if avg_width >= 200 or avg_height >= 200:\n",
    "    recommended_img_size = (224, 224)\n",
    "elif avg_width >= 100 or avg_height >= 100:\n",
    "    recommended_img_size = (128, 128)\n",
    "else:\n",
    "    recommended_img_size = (64, 64)\n",
    "\n",
    "\n",
    "img_area = recommended_img_size[0] * recommended_img_size[1]\n",
    "if img_area <= 64*64:\n",
    "    recommended_batch = 64\n",
    "elif img_area <= 128*128:\n",
    "    recommended_batch = 32\n",
    "else:\n",
    "    recommended_batch = 16\n",
    "\n",
    "print(\" Recommended Image Size:\", recommended_img_size)\n",
    "print(\" Recommended Batch Size:\", recommended_batch)\n"
   ]
  },
  {
   "cell_type": "code",
   "execution_count": 6,
   "id": "a00f9098",
   "metadata": {
    "execution": {
     "iopub.execute_input": "2025-07-17T11:13:19.409989Z",
     "iopub.status.busy": "2025-07-17T11:13:19.409542Z",
     "iopub.status.idle": "2025-07-17T11:13:19.413190Z",
     "shell.execute_reply": "2025-07-17T11:13:19.412466Z"
    },
    "papermill": {
     "duration": 0.008072,
     "end_time": "2025-07-17T11:13:19.414325",
     "exception": false,
     "start_time": "2025-07-17T11:13:19.406253",
     "status": "completed"
    },
    "tags": []
   },
   "outputs": [],
   "source": [
    "train_datagen = ImageDataGenerator(\n",
    "    rescale=1./255,\n",
    "    rotation_range=20,\n",
    "    width_shift_range=0.2,\n",
    "    height_shift_range=0.2,\n",
    "    zoom_range=0.2,\n",
    "    shear_range=0.1,\n",
    "    horizontal_flip=True\n",
    ")\n",
    "\n",
    "val_test_datagen = ImageDataGenerator(rescale=1./255)"
   ]
  },
  {
   "cell_type": "code",
   "execution_count": 7,
   "id": "05225f49",
   "metadata": {
    "execution": {
     "iopub.execute_input": "2025-07-17T11:13:19.420698Z",
     "iopub.status.busy": "2025-07-17T11:13:19.420506Z",
     "iopub.status.idle": "2025-07-17T11:13:21.922024Z",
     "shell.execute_reply": "2025-07-17T11:13:21.921478Z"
    },
    "papermill": {
     "duration": 2.506059,
     "end_time": "2025-07-17T11:13:21.923263",
     "exception": false,
     "start_time": "2025-07-17T11:13:19.417204",
     "status": "completed"
    },
    "tags": []
   },
   "outputs": [
    {
     "name": "stdout",
     "output_type": "stream",
     "text": [
      "Found 10000 images belonging to 2 classes.\n"
     ]
    }
   ],
   "source": [
    "train_generator = train_datagen.flow_from_directory(\n",
    "    os.path.join(base_dir, \"Train\"),\n",
    "    target_size=recommended_img_size,\n",
    "    batch_size=recommended_batch,\n",
    "    class_mode='categorical'\n",
    ")"
   ]
  },
  {
   "cell_type": "code",
   "execution_count": 8,
   "id": "3e27d27b",
   "metadata": {
    "execution": {
     "iopub.execute_input": "2025-07-17T11:13:21.932313Z",
     "iopub.status.busy": "2025-07-17T11:13:21.931440Z",
     "iopub.status.idle": "2025-07-17T11:13:22.159591Z",
     "shell.execute_reply": "2025-07-17T11:13:22.159026Z"
    },
    "papermill": {
     "duration": 0.233843,
     "end_time": "2025-07-17T11:13:22.160628",
     "exception": false,
     "start_time": "2025-07-17T11:13:21.926785",
     "status": "completed"
    },
    "tags": []
   },
   "outputs": [
    {
     "name": "stdout",
     "output_type": "stream",
     "text": [
      "Found 800 images belonging to 2 classes.\n"
     ]
    }
   ],
   "source": [
    "val_generator = val_test_datagen.flow_from_directory(\n",
    "    os.path.join(base_dir, \"Validation\"),\n",
    "    target_size=recommended_img_size,\n",
    "    batch_size=recommended_batch,\n",
    "    class_mode='categorical'\n",
    ")"
   ]
  },
  {
   "cell_type": "code",
   "execution_count": 9,
   "id": "f0a3f672",
   "metadata": {
    "execution": {
     "iopub.execute_input": "2025-07-17T11:13:22.167554Z",
     "iopub.status.busy": "2025-07-17T11:13:22.167071Z",
     "iopub.status.idle": "2025-07-17T11:13:22.432153Z",
     "shell.execute_reply": "2025-07-17T11:13:22.431634Z"
    },
    "papermill": {
     "duration": 0.269516,
     "end_time": "2025-07-17T11:13:22.433222",
     "exception": false,
     "start_time": "2025-07-17T11:13:22.163706",
     "status": "completed"
    },
    "tags": []
   },
   "outputs": [
    {
     "name": "stdout",
     "output_type": "stream",
     "text": [
      "Found 992 images belonging to 2 classes.\n"
     ]
    }
   ],
   "source": [
    "test_generator = val_test_datagen.flow_from_directory(\n",
    "    os.path.join(base_dir, \"Test\"),\n",
    "    target_size=recommended_img_size,\n",
    "    batch_size=recommended_batch,\n",
    "    class_mode='categorical',\n",
    "    shuffle=False\n",
    ")"
   ]
  },
  {
   "cell_type": "code",
   "execution_count": 10,
   "id": "633c433c",
   "metadata": {
    "execution": {
     "iopub.execute_input": "2025-07-17T11:13:22.439747Z",
     "iopub.status.busy": "2025-07-17T11:13:22.439565Z",
     "iopub.status.idle": "2025-07-17T11:13:22.444795Z",
     "shell.execute_reply": "2025-07-17T11:13:22.444085Z"
    },
    "papermill": {
     "duration": 0.009679,
     "end_time": "2025-07-17T11:13:22.445792",
     "exception": false,
     "start_time": "2025-07-17T11:13:22.436113",
     "status": "completed"
    },
    "tags": []
   },
   "outputs": [],
   "source": [
    "def generateModel(input_shape):\n",
    "    model = Sequential([\n",
    "        Conv2D(32, (3, 3), activation='relu', input_shape=input_shape),\n",
    "        BatchNormalization(),\n",
    "        MaxPooling2D(pool_size=(2, 2)),\n",
    "\n",
    "        Conv2D(64, (3, 3), activation='relu'),\n",
    "        BatchNormalization(),\n",
    "        MaxPooling2D(pool_size=(2, 2)),\n",
    "\n",
    "        Conv2D(128, (3, 3), activation='relu'),\n",
    "        BatchNormalization(),\n",
    "        MaxPooling2D(pool_size=(2, 2)),\n",
    "        Conv2D(256, (3, 3), activation='relu'),\n",
    "        BatchNormalization(),\n",
    "        MaxPooling2D(pool_size=(2, 2)),\n",
    "\n",
    "        Flatten(),\n",
    "        Dropout(0.5),\n",
    "        Dense(512, activation='relu'),\n",
    "        Dropout(0.5),\n",
    "        Dense(2, activation='softmax')\n",
    "    ])\n",
    "    model.compile(optimizer='adam', loss='categorical_crossentropy', metrics=['accuracy'])\n",
    "    return model"
   ]
  },
  {
   "cell_type": "code",
   "execution_count": 11,
   "id": "1ba5529a",
   "metadata": {
    "execution": {
     "iopub.execute_input": "2025-07-17T11:13:22.452495Z",
     "iopub.status.busy": "2025-07-17T11:13:22.452314Z",
     "iopub.status.idle": "2025-07-17T11:13:24.733231Z",
     "shell.execute_reply": "2025-07-17T11:13:24.732520Z"
    },
    "papermill": {
     "duration": 2.285429,
     "end_time": "2025-07-17T11:13:24.734352",
     "exception": false,
     "start_time": "2025-07-17T11:13:22.448923",
     "status": "completed"
    },
    "tags": []
   },
   "outputs": [
    {
     "name": "stderr",
     "output_type": "stream",
     "text": [
      "I0000 00:00:1752750803.381775      19 gpu_device.cc:2022] Created device /job:localhost/replica:0/task:0/device:GPU:0 with 15513 MB memory:  -> device: 0, name: Tesla P100-PCIE-16GB, pci bus id: 0000:00:04.0, compute capability: 6.0\n"
     ]
    },
    {
     "data": {
      "text/html": [
       "<pre style=\"white-space:pre;overflow-x:auto;line-height:normal;font-family:Menlo,'DejaVu Sans Mono',consolas,'Courier New',monospace\"><span style=\"font-weight: bold\">Model: \"sequential\"</span>\n",
       "</pre>\n"
      ],
      "text/plain": [
       "\u001b[1mModel: \"sequential\"\u001b[0m\n"
      ]
     },
     "metadata": {},
     "output_type": "display_data"
    },
    {
     "data": {
      "text/html": [
       "<pre style=\"white-space:pre;overflow-x:auto;line-height:normal;font-family:Menlo,'DejaVu Sans Mono',consolas,'Courier New',monospace\">┏━━━━━━━━━━━━━━━━━━━━━━━━━━━━━━━━━┳━━━━━━━━━━━━━━━━━━━━━━━━┳━━━━━━━━━━━━━━━┓\n",
       "┃<span style=\"font-weight: bold\"> Layer (type)                    </span>┃<span style=\"font-weight: bold\"> Output Shape           </span>┃<span style=\"font-weight: bold\">       Param # </span>┃\n",
       "┡━━━━━━━━━━━━━━━━━━━━━━━━━━━━━━━━━╇━━━━━━━━━━━━━━━━━━━━━━━━╇━━━━━━━━━━━━━━━┩\n",
       "│ conv2d (<span style=\"color: #0087ff; text-decoration-color: #0087ff\">Conv2D</span>)                 │ (<span style=\"color: #00d7ff; text-decoration-color: #00d7ff\">None</span>, <span style=\"color: #00af00; text-decoration-color: #00af00\">126</span>, <span style=\"color: #00af00; text-decoration-color: #00af00\">126</span>, <span style=\"color: #00af00; text-decoration-color: #00af00\">32</span>)   │           <span style=\"color: #00af00; text-decoration-color: #00af00\">896</span> │\n",
       "├─────────────────────────────────┼────────────────────────┼───────────────┤\n",
       "│ batch_normalization             │ (<span style=\"color: #00d7ff; text-decoration-color: #00d7ff\">None</span>, <span style=\"color: #00af00; text-decoration-color: #00af00\">126</span>, <span style=\"color: #00af00; text-decoration-color: #00af00\">126</span>, <span style=\"color: #00af00; text-decoration-color: #00af00\">32</span>)   │           <span style=\"color: #00af00; text-decoration-color: #00af00\">128</span> │\n",
       "│ (<span style=\"color: #0087ff; text-decoration-color: #0087ff\">BatchNormalization</span>)            │                        │               │\n",
       "├─────────────────────────────────┼────────────────────────┼───────────────┤\n",
       "│ max_pooling2d (<span style=\"color: #0087ff; text-decoration-color: #0087ff\">MaxPooling2D</span>)    │ (<span style=\"color: #00d7ff; text-decoration-color: #00d7ff\">None</span>, <span style=\"color: #00af00; text-decoration-color: #00af00\">63</span>, <span style=\"color: #00af00; text-decoration-color: #00af00\">63</span>, <span style=\"color: #00af00; text-decoration-color: #00af00\">32</span>)     │             <span style=\"color: #00af00; text-decoration-color: #00af00\">0</span> │\n",
       "├─────────────────────────────────┼────────────────────────┼───────────────┤\n",
       "│ conv2d_1 (<span style=\"color: #0087ff; text-decoration-color: #0087ff\">Conv2D</span>)               │ (<span style=\"color: #00d7ff; text-decoration-color: #00d7ff\">None</span>, <span style=\"color: #00af00; text-decoration-color: #00af00\">61</span>, <span style=\"color: #00af00; text-decoration-color: #00af00\">61</span>, <span style=\"color: #00af00; text-decoration-color: #00af00\">64</span>)     │        <span style=\"color: #00af00; text-decoration-color: #00af00\">18,496</span> │\n",
       "├─────────────────────────────────┼────────────────────────┼───────────────┤\n",
       "│ batch_normalization_1           │ (<span style=\"color: #00d7ff; text-decoration-color: #00d7ff\">None</span>, <span style=\"color: #00af00; text-decoration-color: #00af00\">61</span>, <span style=\"color: #00af00; text-decoration-color: #00af00\">61</span>, <span style=\"color: #00af00; text-decoration-color: #00af00\">64</span>)     │           <span style=\"color: #00af00; text-decoration-color: #00af00\">256</span> │\n",
       "│ (<span style=\"color: #0087ff; text-decoration-color: #0087ff\">BatchNormalization</span>)            │                        │               │\n",
       "├─────────────────────────────────┼────────────────────────┼───────────────┤\n",
       "│ max_pooling2d_1 (<span style=\"color: #0087ff; text-decoration-color: #0087ff\">MaxPooling2D</span>)  │ (<span style=\"color: #00d7ff; text-decoration-color: #00d7ff\">None</span>, <span style=\"color: #00af00; text-decoration-color: #00af00\">30</span>, <span style=\"color: #00af00; text-decoration-color: #00af00\">30</span>, <span style=\"color: #00af00; text-decoration-color: #00af00\">64</span>)     │             <span style=\"color: #00af00; text-decoration-color: #00af00\">0</span> │\n",
       "├─────────────────────────────────┼────────────────────────┼───────────────┤\n",
       "│ conv2d_2 (<span style=\"color: #0087ff; text-decoration-color: #0087ff\">Conv2D</span>)               │ (<span style=\"color: #00d7ff; text-decoration-color: #00d7ff\">None</span>, <span style=\"color: #00af00; text-decoration-color: #00af00\">28</span>, <span style=\"color: #00af00; text-decoration-color: #00af00\">28</span>, <span style=\"color: #00af00; text-decoration-color: #00af00\">128</span>)    │        <span style=\"color: #00af00; text-decoration-color: #00af00\">73,856</span> │\n",
       "├─────────────────────────────────┼────────────────────────┼───────────────┤\n",
       "│ batch_normalization_2           │ (<span style=\"color: #00d7ff; text-decoration-color: #00d7ff\">None</span>, <span style=\"color: #00af00; text-decoration-color: #00af00\">28</span>, <span style=\"color: #00af00; text-decoration-color: #00af00\">28</span>, <span style=\"color: #00af00; text-decoration-color: #00af00\">128</span>)    │           <span style=\"color: #00af00; text-decoration-color: #00af00\">512</span> │\n",
       "│ (<span style=\"color: #0087ff; text-decoration-color: #0087ff\">BatchNormalization</span>)            │                        │               │\n",
       "├─────────────────────────────────┼────────────────────────┼───────────────┤\n",
       "│ max_pooling2d_2 (<span style=\"color: #0087ff; text-decoration-color: #0087ff\">MaxPooling2D</span>)  │ (<span style=\"color: #00d7ff; text-decoration-color: #00d7ff\">None</span>, <span style=\"color: #00af00; text-decoration-color: #00af00\">14</span>, <span style=\"color: #00af00; text-decoration-color: #00af00\">14</span>, <span style=\"color: #00af00; text-decoration-color: #00af00\">128</span>)    │             <span style=\"color: #00af00; text-decoration-color: #00af00\">0</span> │\n",
       "├─────────────────────────────────┼────────────────────────┼───────────────┤\n",
       "│ conv2d_3 (<span style=\"color: #0087ff; text-decoration-color: #0087ff\">Conv2D</span>)               │ (<span style=\"color: #00d7ff; text-decoration-color: #00d7ff\">None</span>, <span style=\"color: #00af00; text-decoration-color: #00af00\">12</span>, <span style=\"color: #00af00; text-decoration-color: #00af00\">12</span>, <span style=\"color: #00af00; text-decoration-color: #00af00\">256</span>)    │       <span style=\"color: #00af00; text-decoration-color: #00af00\">295,168</span> │\n",
       "├─────────────────────────────────┼────────────────────────┼───────────────┤\n",
       "│ batch_normalization_3           │ (<span style=\"color: #00d7ff; text-decoration-color: #00d7ff\">None</span>, <span style=\"color: #00af00; text-decoration-color: #00af00\">12</span>, <span style=\"color: #00af00; text-decoration-color: #00af00\">12</span>, <span style=\"color: #00af00; text-decoration-color: #00af00\">256</span>)    │         <span style=\"color: #00af00; text-decoration-color: #00af00\">1,024</span> │\n",
       "│ (<span style=\"color: #0087ff; text-decoration-color: #0087ff\">BatchNormalization</span>)            │                        │               │\n",
       "├─────────────────────────────────┼────────────────────────┼───────────────┤\n",
       "│ max_pooling2d_3 (<span style=\"color: #0087ff; text-decoration-color: #0087ff\">MaxPooling2D</span>)  │ (<span style=\"color: #00d7ff; text-decoration-color: #00d7ff\">None</span>, <span style=\"color: #00af00; text-decoration-color: #00af00\">6</span>, <span style=\"color: #00af00; text-decoration-color: #00af00\">6</span>, <span style=\"color: #00af00; text-decoration-color: #00af00\">256</span>)      │             <span style=\"color: #00af00; text-decoration-color: #00af00\">0</span> │\n",
       "├─────────────────────────────────┼────────────────────────┼───────────────┤\n",
       "│ flatten (<span style=\"color: #0087ff; text-decoration-color: #0087ff\">Flatten</span>)               │ (<span style=\"color: #00d7ff; text-decoration-color: #00d7ff\">None</span>, <span style=\"color: #00af00; text-decoration-color: #00af00\">9216</span>)           │             <span style=\"color: #00af00; text-decoration-color: #00af00\">0</span> │\n",
       "├─────────────────────────────────┼────────────────────────┼───────────────┤\n",
       "│ dropout (<span style=\"color: #0087ff; text-decoration-color: #0087ff\">Dropout</span>)               │ (<span style=\"color: #00d7ff; text-decoration-color: #00d7ff\">None</span>, <span style=\"color: #00af00; text-decoration-color: #00af00\">9216</span>)           │             <span style=\"color: #00af00; text-decoration-color: #00af00\">0</span> │\n",
       "├─────────────────────────────────┼────────────────────────┼───────────────┤\n",
       "│ dense (<span style=\"color: #0087ff; text-decoration-color: #0087ff\">Dense</span>)                   │ (<span style=\"color: #00d7ff; text-decoration-color: #00d7ff\">None</span>, <span style=\"color: #00af00; text-decoration-color: #00af00\">512</span>)            │     <span style=\"color: #00af00; text-decoration-color: #00af00\">4,719,104</span> │\n",
       "├─────────────────────────────────┼────────────────────────┼───────────────┤\n",
       "│ dropout_1 (<span style=\"color: #0087ff; text-decoration-color: #0087ff\">Dropout</span>)             │ (<span style=\"color: #00d7ff; text-decoration-color: #00d7ff\">None</span>, <span style=\"color: #00af00; text-decoration-color: #00af00\">512</span>)            │             <span style=\"color: #00af00; text-decoration-color: #00af00\">0</span> │\n",
       "├─────────────────────────────────┼────────────────────────┼───────────────┤\n",
       "│ dense_1 (<span style=\"color: #0087ff; text-decoration-color: #0087ff\">Dense</span>)                 │ (<span style=\"color: #00d7ff; text-decoration-color: #00d7ff\">None</span>, <span style=\"color: #00af00; text-decoration-color: #00af00\">2</span>)              │         <span style=\"color: #00af00; text-decoration-color: #00af00\">1,026</span> │\n",
       "└─────────────────────────────────┴────────────────────────┴───────────────┘\n",
       "</pre>\n"
      ],
      "text/plain": [
       "┏━━━━━━━━━━━━━━━━━━━━━━━━━━━━━━━━━┳━━━━━━━━━━━━━━━━━━━━━━━━┳━━━━━━━━━━━━━━━┓\n",
       "┃\u001b[1m \u001b[0m\u001b[1mLayer (type)                   \u001b[0m\u001b[1m \u001b[0m┃\u001b[1m \u001b[0m\u001b[1mOutput Shape          \u001b[0m\u001b[1m \u001b[0m┃\u001b[1m \u001b[0m\u001b[1m      Param #\u001b[0m\u001b[1m \u001b[0m┃\n",
       "┡━━━━━━━━━━━━━━━━━━━━━━━━━━━━━━━━━╇━━━━━━━━━━━━━━━━━━━━━━━━╇━━━━━━━━━━━━━━━┩\n",
       "│ conv2d (\u001b[38;5;33mConv2D\u001b[0m)                 │ (\u001b[38;5;45mNone\u001b[0m, \u001b[38;5;34m126\u001b[0m, \u001b[38;5;34m126\u001b[0m, \u001b[38;5;34m32\u001b[0m)   │           \u001b[38;5;34m896\u001b[0m │\n",
       "├─────────────────────────────────┼────────────────────────┼───────────────┤\n",
       "│ batch_normalization             │ (\u001b[38;5;45mNone\u001b[0m, \u001b[38;5;34m126\u001b[0m, \u001b[38;5;34m126\u001b[0m, \u001b[38;5;34m32\u001b[0m)   │           \u001b[38;5;34m128\u001b[0m │\n",
       "│ (\u001b[38;5;33mBatchNormalization\u001b[0m)            │                        │               │\n",
       "├─────────────────────────────────┼────────────────────────┼───────────────┤\n",
       "│ max_pooling2d (\u001b[38;5;33mMaxPooling2D\u001b[0m)    │ (\u001b[38;5;45mNone\u001b[0m, \u001b[38;5;34m63\u001b[0m, \u001b[38;5;34m63\u001b[0m, \u001b[38;5;34m32\u001b[0m)     │             \u001b[38;5;34m0\u001b[0m │\n",
       "├─────────────────────────────────┼────────────────────────┼───────────────┤\n",
       "│ conv2d_1 (\u001b[38;5;33mConv2D\u001b[0m)               │ (\u001b[38;5;45mNone\u001b[0m, \u001b[38;5;34m61\u001b[0m, \u001b[38;5;34m61\u001b[0m, \u001b[38;5;34m64\u001b[0m)     │        \u001b[38;5;34m18,496\u001b[0m │\n",
       "├─────────────────────────────────┼────────────────────────┼───────────────┤\n",
       "│ batch_normalization_1           │ (\u001b[38;5;45mNone\u001b[0m, \u001b[38;5;34m61\u001b[0m, \u001b[38;5;34m61\u001b[0m, \u001b[38;5;34m64\u001b[0m)     │           \u001b[38;5;34m256\u001b[0m │\n",
       "│ (\u001b[38;5;33mBatchNormalization\u001b[0m)            │                        │               │\n",
       "├─────────────────────────────────┼────────────────────────┼───────────────┤\n",
       "│ max_pooling2d_1 (\u001b[38;5;33mMaxPooling2D\u001b[0m)  │ (\u001b[38;5;45mNone\u001b[0m, \u001b[38;5;34m30\u001b[0m, \u001b[38;5;34m30\u001b[0m, \u001b[38;5;34m64\u001b[0m)     │             \u001b[38;5;34m0\u001b[0m │\n",
       "├─────────────────────────────────┼────────────────────────┼───────────────┤\n",
       "│ conv2d_2 (\u001b[38;5;33mConv2D\u001b[0m)               │ (\u001b[38;5;45mNone\u001b[0m, \u001b[38;5;34m28\u001b[0m, \u001b[38;5;34m28\u001b[0m, \u001b[38;5;34m128\u001b[0m)    │        \u001b[38;5;34m73,856\u001b[0m │\n",
       "├─────────────────────────────────┼────────────────────────┼───────────────┤\n",
       "│ batch_normalization_2           │ (\u001b[38;5;45mNone\u001b[0m, \u001b[38;5;34m28\u001b[0m, \u001b[38;5;34m28\u001b[0m, \u001b[38;5;34m128\u001b[0m)    │           \u001b[38;5;34m512\u001b[0m │\n",
       "│ (\u001b[38;5;33mBatchNormalization\u001b[0m)            │                        │               │\n",
       "├─────────────────────────────────┼────────────────────────┼───────────────┤\n",
       "│ max_pooling2d_2 (\u001b[38;5;33mMaxPooling2D\u001b[0m)  │ (\u001b[38;5;45mNone\u001b[0m, \u001b[38;5;34m14\u001b[0m, \u001b[38;5;34m14\u001b[0m, \u001b[38;5;34m128\u001b[0m)    │             \u001b[38;5;34m0\u001b[0m │\n",
       "├─────────────────────────────────┼────────────────────────┼───────────────┤\n",
       "│ conv2d_3 (\u001b[38;5;33mConv2D\u001b[0m)               │ (\u001b[38;5;45mNone\u001b[0m, \u001b[38;5;34m12\u001b[0m, \u001b[38;5;34m12\u001b[0m, \u001b[38;5;34m256\u001b[0m)    │       \u001b[38;5;34m295,168\u001b[0m │\n",
       "├─────────────────────────────────┼────────────────────────┼───────────────┤\n",
       "│ batch_normalization_3           │ (\u001b[38;5;45mNone\u001b[0m, \u001b[38;5;34m12\u001b[0m, \u001b[38;5;34m12\u001b[0m, \u001b[38;5;34m256\u001b[0m)    │         \u001b[38;5;34m1,024\u001b[0m │\n",
       "│ (\u001b[38;5;33mBatchNormalization\u001b[0m)            │                        │               │\n",
       "├─────────────────────────────────┼────────────────────────┼───────────────┤\n",
       "│ max_pooling2d_3 (\u001b[38;5;33mMaxPooling2D\u001b[0m)  │ (\u001b[38;5;45mNone\u001b[0m, \u001b[38;5;34m6\u001b[0m, \u001b[38;5;34m6\u001b[0m, \u001b[38;5;34m256\u001b[0m)      │             \u001b[38;5;34m0\u001b[0m │\n",
       "├─────────────────────────────────┼────────────────────────┼───────────────┤\n",
       "│ flatten (\u001b[38;5;33mFlatten\u001b[0m)               │ (\u001b[38;5;45mNone\u001b[0m, \u001b[38;5;34m9216\u001b[0m)           │             \u001b[38;5;34m0\u001b[0m │\n",
       "├─────────────────────────────────┼────────────────────────┼───────────────┤\n",
       "│ dropout (\u001b[38;5;33mDropout\u001b[0m)               │ (\u001b[38;5;45mNone\u001b[0m, \u001b[38;5;34m9216\u001b[0m)           │             \u001b[38;5;34m0\u001b[0m │\n",
       "├─────────────────────────────────┼────────────────────────┼───────────────┤\n",
       "│ dense (\u001b[38;5;33mDense\u001b[0m)                   │ (\u001b[38;5;45mNone\u001b[0m, \u001b[38;5;34m512\u001b[0m)            │     \u001b[38;5;34m4,719,104\u001b[0m │\n",
       "├─────────────────────────────────┼────────────────────────┼───────────────┤\n",
       "│ dropout_1 (\u001b[38;5;33mDropout\u001b[0m)             │ (\u001b[38;5;45mNone\u001b[0m, \u001b[38;5;34m512\u001b[0m)            │             \u001b[38;5;34m0\u001b[0m │\n",
       "├─────────────────────────────────┼────────────────────────┼───────────────┤\n",
       "│ dense_1 (\u001b[38;5;33mDense\u001b[0m)                 │ (\u001b[38;5;45mNone\u001b[0m, \u001b[38;5;34m2\u001b[0m)              │         \u001b[38;5;34m1,026\u001b[0m │\n",
       "└─────────────────────────────────┴────────────────────────┴───────────────┘\n"
      ]
     },
     "metadata": {},
     "output_type": "display_data"
    },
    {
     "data": {
      "text/html": [
       "<pre style=\"white-space:pre;overflow-x:auto;line-height:normal;font-family:Menlo,'DejaVu Sans Mono',consolas,'Courier New',monospace\"><span style=\"font-weight: bold\"> Total params: </span><span style=\"color: #00af00; text-decoration-color: #00af00\">5,110,466</span> (19.49 MB)\n",
       "</pre>\n"
      ],
      "text/plain": [
       "\u001b[1m Total params: \u001b[0m\u001b[38;5;34m5,110,466\u001b[0m (19.49 MB)\n"
      ]
     },
     "metadata": {},
     "output_type": "display_data"
    },
    {
     "data": {
      "text/html": [
       "<pre style=\"white-space:pre;overflow-x:auto;line-height:normal;font-family:Menlo,'DejaVu Sans Mono',consolas,'Courier New',monospace\"><span style=\"font-weight: bold\"> Trainable params: </span><span style=\"color: #00af00; text-decoration-color: #00af00\">5,109,506</span> (19.49 MB)\n",
       "</pre>\n"
      ],
      "text/plain": [
       "\u001b[1m Trainable params: \u001b[0m\u001b[38;5;34m5,109,506\u001b[0m (19.49 MB)\n"
      ]
     },
     "metadata": {},
     "output_type": "display_data"
    },
    {
     "data": {
      "text/html": [
       "<pre style=\"white-space:pre;overflow-x:auto;line-height:normal;font-family:Menlo,'DejaVu Sans Mono',consolas,'Courier New',monospace\"><span style=\"font-weight: bold\"> Non-trainable params: </span><span style=\"color: #00af00; text-decoration-color: #00af00\">960</span> (3.75 KB)\n",
       "</pre>\n"
      ],
      "text/plain": [
       "\u001b[1m Non-trainable params: \u001b[0m\u001b[38;5;34m960\u001b[0m (3.75 KB)\n"
      ]
     },
     "metadata": {},
     "output_type": "display_data"
    }
   ],
   "source": [
    "input_shape = (recommended_img_size[0], recommended_img_size[1], 3)\n",
    "model = generateModel(input_shape)\n",
    "model.summary()"
   ]
  },
  {
   "cell_type": "code",
   "execution_count": 12,
   "id": "2f91125c",
   "metadata": {
    "execution": {
     "iopub.execute_input": "2025-07-17T11:13:24.743200Z",
     "iopub.status.busy": "2025-07-17T11:13:24.742937Z",
     "iopub.status.idle": "2025-07-17T11:36:05.554793Z",
     "shell.execute_reply": "2025-07-17T11:36:05.554001Z"
    },
    "papermill": {
     "duration": 1360.817586,
     "end_time": "2025-07-17T11:36:05.556098",
     "exception": false,
     "start_time": "2025-07-17T11:13:24.738512",
     "status": "completed"
    },
    "tags": []
   },
   "outputs": [
    {
     "name": "stdout",
     "output_type": "stream",
     "text": [
      "Epoch 1/25\n"
     ]
    },
    {
     "name": "stderr",
     "output_type": "stream",
     "text": [
      "WARNING: All log messages before absl::InitializeLog() is called are written to STDERR\n",
      "I0000 00:00:1752750809.874804      79 service.cc:148] XLA service 0x7f9a9c004610 initialized for platform CUDA (this does not guarantee that XLA will be used). Devices:\n",
      "I0000 00:00:1752750809.875823      79 service.cc:156]   StreamExecutor device (0): Tesla P100-PCIE-16GB, Compute Capability 6.0\n",
      "I0000 00:00:1752750810.405386      79 cuda_dnn.cc:529] Loaded cuDNN version 90300\n"
     ]
    },
    {
     "name": "stdout",
     "output_type": "stream",
     "text": [
      "\u001b[1m  1/313\u001b[0m \u001b[37m━━━━━━━━━━━━━━━━━━━━\u001b[0m \u001b[1m51:04\u001b[0m 10s/step - accuracy: 0.6875 - loss: 1.7506"
     ]
    },
    {
     "name": "stderr",
     "output_type": "stream",
     "text": [
      "I0000 00:00:1752750814.935768      79 device_compiler.h:188] Compiled cluster using XLA!  This line is logged at most once for the lifetime of the process.\n"
     ]
    },
    {
     "name": "stdout",
     "output_type": "stream",
     "text": [
      "\u001b[1m313/313\u001b[0m \u001b[32m━━━━━━━━━━━━━━━━━━━━\u001b[0m\u001b[37m\u001b[0m \u001b[1m67s\u001b[0m 183ms/step - accuracy: 0.8694 - loss: 1.0653 - val_accuracy: 0.6650 - val_loss: 1.1960 - learning_rate: 0.0010\n",
      "Epoch 2/25\n",
      "\u001b[1m313/313\u001b[0m \u001b[32m━━━━━━━━━━━━━━━━━━━━\u001b[0m\u001b[37m\u001b[0m \u001b[1m55s\u001b[0m 177ms/step - accuracy: 0.9366 - loss: 0.2064 - val_accuracy: 0.9613 - val_loss: 0.1112 - learning_rate: 0.0010\n",
      "Epoch 3/25\n",
      "\u001b[1m313/313\u001b[0m \u001b[32m━━━━━━━━━━━━━━━━━━━━\u001b[0m\u001b[37m\u001b[0m \u001b[1m58s\u001b[0m 187ms/step - accuracy: 0.9504 - loss: 0.1554 - val_accuracy: 0.9438 - val_loss: 0.1591 - learning_rate: 0.0010\n",
      "Epoch 4/25\n",
      "\u001b[1m313/313\u001b[0m \u001b[32m━━━━━━━━━━━━━━━━━━━━\u001b[0m\u001b[37m\u001b[0m \u001b[1m53s\u001b[0m 169ms/step - accuracy: 0.9610 - loss: 0.1241 - val_accuracy: 0.9737 - val_loss: 0.0768 - learning_rate: 0.0010\n",
      "Epoch 5/25\n",
      "\u001b[1m313/313\u001b[0m \u001b[32m━━━━━━━━━━━━━━━━━━━━\u001b[0m\u001b[37m\u001b[0m \u001b[1m53s\u001b[0m 170ms/step - accuracy: 0.9633 - loss: 0.1135 - val_accuracy: 0.9875 - val_loss: 0.0469 - learning_rate: 0.0010\n",
      "Epoch 6/25\n",
      "\u001b[1m313/313\u001b[0m \u001b[32m━━━━━━━━━━━━━━━━━━━━\u001b[0m\u001b[37m\u001b[0m \u001b[1m55s\u001b[0m 175ms/step - accuracy: 0.9651 - loss: 0.0992 - val_accuracy: 0.9550 - val_loss: 0.1651 - learning_rate: 0.0010\n",
      "Epoch 7/25\n",
      "\u001b[1m313/313\u001b[0m \u001b[32m━━━━━━━━━━━━━━━━━━━━\u001b[0m\u001b[37m\u001b[0m \u001b[1m53s\u001b[0m 170ms/step - accuracy: 0.9665 - loss: 0.1063 - val_accuracy: 0.9700 - val_loss: 0.0924 - learning_rate: 0.0010\n",
      "Epoch 8/25\n",
      "\u001b[1m313/313\u001b[0m \u001b[32m━━━━━━━━━━━━━━━━━━━━\u001b[0m\u001b[37m\u001b[0m \u001b[1m61s\u001b[0m 195ms/step - accuracy: 0.9703 - loss: 0.0858 - val_accuracy: 0.9812 - val_loss: 0.0439 - learning_rate: 0.0010\n",
      "Epoch 9/25\n",
      "\u001b[1m313/313\u001b[0m \u001b[32m━━━━━━━━━━━━━━━━━━━━\u001b[0m\u001b[37m\u001b[0m \u001b[1m52s\u001b[0m 167ms/step - accuracy: 0.9727 - loss: 0.0834 - val_accuracy: 0.9050 - val_loss: 0.2879 - learning_rate: 0.0010\n",
      "Epoch 10/25\n",
      "\u001b[1m313/313\u001b[0m \u001b[32m━━━━━━━━━━━━━━━━━━━━\u001b[0m\u001b[37m\u001b[0m \u001b[1m56s\u001b[0m 178ms/step - accuracy: 0.9737 - loss: 0.0812 - val_accuracy: 0.9900 - val_loss: 0.0373 - learning_rate: 0.0010\n",
      "Epoch 11/25\n",
      "\u001b[1m313/313\u001b[0m \u001b[32m━━━━━━━━━━━━━━━━━━━━\u001b[0m\u001b[37m\u001b[0m \u001b[1m59s\u001b[0m 187ms/step - accuracy: 0.9762 - loss: 0.0675 - val_accuracy: 0.9300 - val_loss: 0.3202 - learning_rate: 0.0010\n",
      "Epoch 12/25\n",
      "\u001b[1m313/313\u001b[0m \u001b[32m━━━━━━━━━━━━━━━━━━━━\u001b[0m\u001b[37m\u001b[0m \u001b[1m55s\u001b[0m 175ms/step - accuracy: 0.9752 - loss: 0.0743 - val_accuracy: 0.9875 - val_loss: 0.0767 - learning_rate: 0.0010\n",
      "Epoch 13/25\n",
      "\u001b[1m313/313\u001b[0m \u001b[32m━━━━━━━━━━━━━━━━━━━━\u001b[0m\u001b[37m\u001b[0m \u001b[1m57s\u001b[0m 183ms/step - accuracy: 0.9752 - loss: 0.0720 - val_accuracy: 0.9463 - val_loss: 0.1663 - learning_rate: 0.0010\n",
      "Epoch 14/25\n",
      "\u001b[1m313/313\u001b[0m \u001b[32m━━━━━━━━━━━━━━━━━━━━\u001b[0m\u001b[37m\u001b[0m \u001b[1m52s\u001b[0m 167ms/step - accuracy: 0.9785 - loss: 0.0601 - val_accuracy: 0.9937 - val_loss: 0.0129 - learning_rate: 1.0000e-04\n",
      "Epoch 15/25\n",
      "\u001b[1m313/313\u001b[0m \u001b[32m━━━━━━━━━━━━━━━━━━━━\u001b[0m\u001b[37m\u001b[0m \u001b[1m53s\u001b[0m 169ms/step - accuracy: 0.9863 - loss: 0.0365 - val_accuracy: 0.9937 - val_loss: 0.0109 - learning_rate: 1.0000e-04\n",
      "Epoch 16/25\n",
      "\u001b[1m313/313\u001b[0m \u001b[32m━━━━━━━━━━━━━━━━━━━━\u001b[0m\u001b[37m\u001b[0m \u001b[1m52s\u001b[0m 167ms/step - accuracy: 0.9906 - loss: 0.0295 - val_accuracy: 0.9962 - val_loss: 0.0114 - learning_rate: 1.0000e-04\n",
      "Epoch 17/25\n",
      "\u001b[1m313/313\u001b[0m \u001b[32m━━━━━━━━━━━━━━━━━━━━\u001b[0m\u001b[37m\u001b[0m \u001b[1m53s\u001b[0m 168ms/step - accuracy: 0.9864 - loss: 0.0357 - val_accuracy: 0.9950 - val_loss: 0.0126 - learning_rate: 1.0000e-04\n",
      "Epoch 18/25\n",
      "\u001b[1m313/313\u001b[0m \u001b[32m━━━━━━━━━━━━━━━━━━━━\u001b[0m\u001b[37m\u001b[0m \u001b[1m52s\u001b[0m 166ms/step - accuracy: 0.9872 - loss: 0.0371 - val_accuracy: 0.9962 - val_loss: 0.0095 - learning_rate: 1.0000e-04\n",
      "Epoch 19/25\n",
      "\u001b[1m313/313\u001b[0m \u001b[32m━━━━━━━━━━━━━━━━━━━━\u001b[0m\u001b[37m\u001b[0m \u001b[1m51s\u001b[0m 163ms/step - accuracy: 0.9896 - loss: 0.0336 - val_accuracy: 0.9950 - val_loss: 0.0119 - learning_rate: 1.0000e-04\n",
      "Epoch 20/25\n",
      "\u001b[1m313/313\u001b[0m \u001b[32m━━━━━━━━━━━━━━━━━━━━\u001b[0m\u001b[37m\u001b[0m \u001b[1m52s\u001b[0m 166ms/step - accuracy: 0.9922 - loss: 0.0233 - val_accuracy: 0.9962 - val_loss: 0.0113 - learning_rate: 1.0000e-04\n",
      "Epoch 21/25\n",
      "\u001b[1m313/313\u001b[0m \u001b[32m━━━━━━━━━━━━━━━━━━━━\u001b[0m\u001b[37m\u001b[0m \u001b[1m51s\u001b[0m 164ms/step - accuracy: 0.9921 - loss: 0.0215 - val_accuracy: 0.9950 - val_loss: 0.0104 - learning_rate: 1.0000e-04\n",
      "Epoch 22/25\n",
      "\u001b[1m313/313\u001b[0m \u001b[32m━━━━━━━━━━━━━━━━━━━━\u001b[0m\u001b[37m\u001b[0m \u001b[1m53s\u001b[0m 169ms/step - accuracy: 0.9928 - loss: 0.0215 - val_accuracy: 0.9962 - val_loss: 0.0090 - learning_rate: 1.0000e-05\n",
      "Epoch 23/25\n",
      "\u001b[1m313/313\u001b[0m \u001b[32m━━━━━━━━━━━━━━━━━━━━\u001b[0m\u001b[37m\u001b[0m \u001b[1m52s\u001b[0m 166ms/step - accuracy: 0.9936 - loss: 0.0193 - val_accuracy: 0.9962 - val_loss: 0.0094 - learning_rate: 1.0000e-05\n",
      "Epoch 24/25\n",
      "\u001b[1m313/313\u001b[0m \u001b[32m━━━━━━━━━━━━━━━━━━━━\u001b[0m\u001b[37m\u001b[0m \u001b[1m52s\u001b[0m 167ms/step - accuracy: 0.9904 - loss: 0.0243 - val_accuracy: 0.9962 - val_loss: 0.0090 - learning_rate: 1.0000e-05\n",
      "Epoch 25/25\n",
      "\u001b[1m313/313\u001b[0m \u001b[32m━━━━━━━━━━━━━━━━━━━━\u001b[0m\u001b[37m\u001b[0m \u001b[1m52s\u001b[0m 166ms/step - accuracy: 0.9925 - loss: 0.0223 - val_accuracy: 0.9962 - val_loss: 0.0099 - learning_rate: 1.0000e-05\n"
     ]
    }
   ],
   "source": [
    "early_stopping = EarlyStopping(monitor='val_loss', patience=5, restore_best_weights=True)\n",
    "reduce_lr = ReduceLROnPlateau(monitor='val_loss', factor=0.1, patience=3, min_lr=1e-5)\n",
    "checkpoint = ModelCheckpoint(\"best_model.keras\", monitor='val_accuracy', save_best_only=True)\n",
    "\n",
    "\n",
    "history = model.fit(\n",
    "    train_generator,\n",
    "    validation_data=val_generator,\n",
    "    epochs=25,\n",
    "    callbacks=[early_stopping, reduce_lr, checkpoint]\n",
    ")"
   ]
  },
  {
   "cell_type": "code",
   "execution_count": 13,
   "id": "d79dfa19",
   "metadata": {
    "execution": {
     "iopub.execute_input": "2025-07-17T11:36:06.201888Z",
     "iopub.status.busy": "2025-07-17T11:36:06.201613Z",
     "iopub.status.idle": "2025-07-17T11:36:09.583089Z",
     "shell.execute_reply": "2025-07-17T11:36:09.582328Z"
    },
    "papermill": {
     "duration": 3.70421,
     "end_time": "2025-07-17T11:36:09.584324",
     "exception": false,
     "start_time": "2025-07-17T11:36:05.880114",
     "status": "completed"
    },
    "tags": []
   },
   "outputs": [
    {
     "name": "stdout",
     "output_type": "stream",
     "text": [
      "\u001b[1m31/31\u001b[0m \u001b[32m━━━━━━━━━━━━━━━━━━━━\u001b[0m\u001b[37m\u001b[0m \u001b[1m3s\u001b[0m 85ms/step - accuracy: 0.9968 - loss: 0.0161\n",
      " Final Test Accuracy: 0.9960\n"
     ]
    }
   ],
   "source": [
    "model.load_weights(\"best_model.keras\")\n",
    "test_loss, test_accuracy = model.evaluate(test_generator)\n",
    "print(f\" Final Test Accuracy: {test_accuracy:.4f}\")"
   ]
  },
  {
   "cell_type": "code",
   "execution_count": 14,
   "id": "28ffc002",
   "metadata": {
    "execution": {
     "iopub.execute_input": "2025-07-17T11:36:10.273615Z",
     "iopub.status.busy": "2025-07-17T11:36:10.272835Z",
     "iopub.status.idle": "2025-07-17T11:36:12.679919Z",
     "shell.execute_reply": "2025-07-17T11:36:12.679036Z"
    },
    "papermill": {
     "duration": 2.725052,
     "end_time": "2025-07-17T11:36:12.681175",
     "exception": false,
     "start_time": "2025-07-17T11:36:09.956123",
     "status": "completed"
    },
    "tags": []
   },
   "outputs": [
    {
     "name": "stdout",
     "output_type": "stream",
     "text": [
      "\u001b[1m31/31\u001b[0m \u001b[32m━━━━━━━━━━━━━━━━━━━━\u001b[0m\u001b[37m\u001b[0m \u001b[1m2s\u001b[0m 55ms/step\n",
      "Classification Report:\n",
      "\n",
      "              precision    recall  f1-score   support\n",
      "\n",
      "    WithMask       0.99      1.00      1.00       483\n",
      " WithoutMask       1.00      0.99      1.00       509\n",
      "\n",
      "    accuracy                           1.00       992\n",
      "   macro avg       1.00      1.00      1.00       992\n",
      "weighted avg       1.00      1.00      1.00       992\n",
      "\n"
     ]
    }
   ],
   "source": [
    "y_true = test_generator.classes\n",
    "y_pred_prob = model.predict(test_generator)\n",
    "y_pred = np.argmax(y_pred_prob, axis=1)\n",
    "class_labels = list(test_generator.class_indices.keys())\n",
    "print(\"Classification Report:\\n\")\n",
    "print(classification_report(y_true, y_pred, target_names=class_labels))"
   ]
  },
  {
   "cell_type": "code",
   "execution_count": 15,
   "id": "67792591",
   "metadata": {
    "execution": {
     "iopub.execute_input": "2025-07-17T11:36:13.377068Z",
     "iopub.status.busy": "2025-07-17T11:36:13.376787Z",
     "iopub.status.idle": "2025-07-17T11:36:13.632064Z",
     "shell.execute_reply": "2025-07-17T11:36:13.631339Z"
    },
    "papermill": {
     "duration": 0.629604,
     "end_time": "2025-07-17T11:36:13.633389",
     "exception": false,
     "start_time": "2025-07-17T11:36:13.003785",
     "status": "completed"
    },
    "tags": []
   },
   "outputs": [
    {
     "data": {
      "image/png": "[encoded data removed]",
      "text/plain": [
       "<Figure size 640x480 with 2 Axes>"
      ]
     },
     "metadata": {},
     "output_type": "display_data"
    }
   ],
   "source": [
    "cm = confusion_matrix(y_true, y_pred)\n",
    "disp = ConfusionMatrixDisplay(confusion_matrix=cm, display_labels=class_labels)\n",
    "disp.plot(cmap='Blues')\n",
    "plt.title(\"Confusion Matrix\")\n",
    "plt.show()"
   ]
  },
  {
   "cell_type": "code",
   "execution_count": 16,
   "id": "65de58b0",
   "metadata": {
    "execution": {
     "iopub.execute_input": "2025-07-17T11:36:14.282709Z",
     "iopub.status.busy": "2025-07-17T11:36:14.281989Z",
     "iopub.status.idle": "2025-07-17T11:36:14.565984Z",
     "shell.execute_reply": "2025-07-17T11:36:14.565191Z"
    },
    "papermill": {
     "duration": 0.610592,
     "end_time": "2025-07-17T11:36:14.567397",
     "exception": false,
     "start_time": "2025-07-17T11:36:13.956805",
     "status": "completed"
    },
    "tags": []
   },
   "outputs": [],
   "source": [
    "model.save(\"model.keras\", save_format=\"keras\")\n"
   ]
  },
  {
   "cell_type": "code",
   "execution_count": 17,
   "id": "cbde7a2f",
   "metadata": {
    "execution": {
     "iopub.execute_input": "2025-07-17T11:36:15.257211Z",
     "iopub.status.busy": "2025-07-17T11:36:15.256891Z",
     "iopub.status.idle": "2025-07-17T11:36:15.668888Z",
     "shell.execute_reply": "2025-07-17T11:36:15.668294Z"
    },
    "papermill": {
     "duration": 0.784728,
     "end_time": "2025-07-17T11:36:15.670388",
     "exception": false,
     "start_time": "2025-07-17T11:36:14.885660",
     "status": "completed"
    },
    "tags": []
   },
   "outputs": [],
   "source": [
    "from tensorflow.keras.models import load_model\n",
    "model = load_model(\"model.keras\")\n"
   ]
  },
  {
   "cell_type": "code",
   "execution_count": 18,
   "id": "ef2feb74",
   "metadata": {
    "execution": {
     "iopub.execute_input": "2025-07-17T11:36:16.316693Z",
     "iopub.status.busy": "2025-07-17T11:36:16.316411Z",
     "iopub.status.idle": "2025-07-17T11:36:16.321010Z",
     "shell.execute_reply": "2025-07-17T11:36:16.320394Z"
    },
    "papermill": {
     "duration": 0.326203,
     "end_time": "2025-07-17T11:36:16.322064",
     "exception": false,
     "start_time": "2025-07-17T11:36:15.995861",
     "status": "completed"
    },
    "tags": []
   },
   "outputs": [
    {
     "data": {
      "text/html": [
       "<a href='model.keras' target='_blank'>model.keras</a><br>"
      ],
      "text/plain": [
       "/kaggle/working/model.keras"
      ]
     },
     "execution_count": 18,
     "metadata": {},
     "output_type": "execute_result"
    }
   ],
   "source": [
    "from IPython.display import FileLink\n",
    "FileLink('model.keras')"
   ]
  }
 ],
 "metadata": {
  "kaggle": {
   "accelerator": "gpu",
   "dataSources": [
    {
     "datasetId": 675484,
     "sourceId": 1187790,
     "sourceType": "datasetVersion"
    }
   ],
   "dockerImageVersionId": 31090,
   "isGpuEnabled": true,
   "isInternetEnabled": true,
   "language": "python",
   "sourceType": "notebook"
  },
  "kernelspec": {
   "display_name": "Python 3",
   "language": "python",
   "name": "python3"
  },
  "language_info": {
   "codemirror_mode": {
    "name": "ipython",
    "version": 3
   },
   "file_extension": ".py",
   "mimetype": "text/x-python",
   "name": "python",
   "nbconvert_exporter": "python",
   "pygments_lexer": "ipython3",
   "version": "3.11.13"
  },
  "papermill": {
   "default_parameters": {},
   "duration": 1524.085476,
   "end_time": "2025-07-17T11:36:20.098842",
   "environment_variables": {},
   "exception": null,
   "input_path": "__notebook__.ipynb",
   "output_path": "__notebook__.ipynb",
   "parameters": {},
   "start_time": "2025-07-17T11:10:56.013366",
   "version": "2.6.0"
  }
 },
 "nbformat": 4,
 "nbformat_minor": 5
}
